{
 "cells": [
  {
   "cell_type": "code",
   "execution_count": null,
   "metadata": {},
   "outputs": [],
   "source": [
    "!rm -rf lstm_for_stock_price_prediction\n",
    "!git clone https://github.com/Davidham3/lstm_for_stock_price_prediction.git\n",
    "!pip install pytorch_lightning"
   ]
  },
  {
   "cell_type": "code",
   "execution_count": 1,
   "metadata": {},
   "outputs": [
    {
     "name": "stderr",
     "output_type": "stream",
     "text": [
      "/home/davidham/miniconda3/envs/tf/lib/python3.8/site-packages/tqdm/auto.py:22: TqdmWarning: IProgress not found. Please update jupyter and ipywidgets. See https://ipywidgets.readthedocs.io/en/stable/user_install.html\n",
      "  from .autonotebook import tqdm as notebook_tqdm\n"
     ]
    }
   ],
   "source": [
    "import os\n",
    "import sys\n",
    "import pytorch_lightning as pl\n",
    "from pytorch_lightning.callbacks import ModelCheckpoint\n",
    "from pytorch_lightning.callbacks.early_stopping import EarlyStopping\n",
    "from pytorch_lightning.plugins.io import AsyncCheckpointIO\n",
    "from torch import nn\n",
    "\n",
    "# folder = \"lstm_for_stock_price_prediction\"\n",
    "folder = \"../../\"\n",
    "sys.path.append(os.path.join(folder, \"code/model\"))\n",
    "from datamodule import TSDataModule\n",
    "from model import LitLSTM, LSTMModel, LSTMWithAttention"
   ]
  },
  {
   "cell_type": "code",
   "execution_count": 2,
   "metadata": {},
   "outputs": [
    {
     "name": "stdout",
     "output_type": "stream",
     "text": [
      "(2534, 9) (634, 9) (793, 9)\n"
     ]
    },
    {
     "name": "stderr",
     "output_type": "stream",
     "text": [
      "/home/davidham/miniconda3/envs/tf/lib/python3.8/site-packages/pytorch_lightning/utilities/parsing.py:263: UserWarning: Attribute 'lstm_net' is an instance of `nn.Module` and is already saved during checkpointing. It is recommended to ignore them using `self.save_hyperparameters(ignore=['lstm_net'])`.\n",
      "  rank_zero_warn(\n",
      "/home/davidham/miniconda3/envs/tf/lib/python3.8/site-packages/pytorch_lightning/utilities/parsing.py:263: UserWarning: Attribute 'loss_func' is an instance of `nn.Module` and is already saved during checkpointing. It is recommended to ignore them using `self.save_hyperparameters(ignore=['loss_func'])`.\n",
      "  rank_zero_warn(\n",
      "GPU available: False, used: False\n",
      "TPU available: False, using: 0 TPU cores\n",
      "IPU available: False, using: 0 IPUs\n",
      "HPU available: False, using: 0 HPUs\n",
      "\n",
      "  | Name      | Type              | Params\n",
      "------------------------------------------------\n",
      "0 | lstm_net  | LSTMWithAttention | 961   \n",
      "1 | loss_func | MSELoss           | 0     \n",
      "------------------------------------------------\n",
      "961       Trainable params\n",
      "0         Non-trainable params\n",
      "961       Total params\n",
      "0.004     Total estimated model params size (MB)\n",
      "2023-03-05 17:41:26.353120: W tensorflow/stream_executor/platform/default/dso_loader.cc:64] Could not load dynamic library 'libcudart.so.11.0'; dlerror: libcudart.so.11.0: cannot open shared object file: No such file or directory\n",
      "2023-03-05 17:41:26.353182: I tensorflow/stream_executor/cuda/cudart_stub.cc:29] Ignore above cudart dlerror if you do not have a GPU set up on your machine.\n"
     ]
    },
    {
     "name": "stdout",
     "output_type": "stream",
     "text": [
      "Sanity Checking: 0it [00:00, ?it/s]"
     ]
    },
    {
     "name": "stderr",
     "output_type": "stream",
     "text": [
      "/home/davidham/miniconda3/envs/tf/lib/python3.8/site-packages/pytorch_lightning/trainer/connectors/data_connector.py:224: PossibleUserWarning: The dataloader, val_dataloader 0, does not have many workers which may be a bottleneck. Consider increasing the value of the `num_workers` argument` (try 4 which is the number of cpus on this machine) in the `DataLoader` init to improve performance.\n",
      "  rank_zero_warn(\n"
     ]
    },
    {
     "name": "stdout",
     "output_type": "stream",
     "text": [
      "                                                                           "
     ]
    },
    {
     "name": "stderr",
     "output_type": "stream",
     "text": [
      "/home/davidham/miniconda3/envs/tf/lib/python3.8/site-packages/pytorch_lightning/trainer/connectors/data_connector.py:224: PossibleUserWarning: The dataloader, train_dataloader, does not have many workers which may be a bottleneck. Consider increasing the value of the `num_workers` argument` (try 4 which is the number of cpus on this machine) in the `DataLoader` init to improve performance.\n",
      "  rank_zero_warn(\n"
     ]
    },
    {
     "name": "stdout",
     "output_type": "stream",
     "text": [
      "Epoch 0:  22%|██▏       | 175/789 [00:04<00:17, 35.38it/s, loss=0.0159, v_num=6]"
     ]
    },
    {
     "name": "stderr",
     "output_type": "stream",
     "text": [
      "/home/davidham/miniconda3/envs/tf/lib/python3.8/site-packages/pytorch_lightning/trainer/call.py:48: UserWarning: Detected KeyboardInterrupt, attempting graceful shutdown...\n",
      "  rank_zero_warn(\"Detected KeyboardInterrupt, attempting graceful shutdown...\")\n"
     ]
    }
   ],
   "source": [
    "path = os.path.join(folder, \"data/input_data.csv\")\n",
    "num_time_steps = 6\n",
    "\n",
    "batch_size = 4\n",
    "learning_rate = 1e-3\n",
    "\n",
    "num_features = 9\n",
    "hidden_size = 10\n",
    "num_lstm_layers = 1\n",
    "bidirectional = False\n",
    "\n",
    "ts_data_module = TSDataModule(\n",
    "    path,\n",
    "    num_time_steps=num_time_steps,\n",
    "    batch_size=batch_size\n",
    ")\n",
    "\n",
    "lstm_net = LSTMWithAttention(\n",
    "    input_size=num_features,\n",
    "    hidden_size=hidden_size,\n",
    "    num_layers=num_lstm_layers,\n",
    "    bidirectional=bidirectional,\n",
    ")\n",
    "loss_func = nn.MSELoss()\n",
    "\n",
    "early_stop_callback = EarlyStopping(\n",
    "    monitor=\"val_loss\",\n",
    "    min_delta=0.00,\n",
    "    patience=10,\n",
    "    verbose=False,\n",
    "    mode=\"min\")\n",
    "async_ckpt_io = AsyncCheckpointIO()\n",
    "checkpoint_callback = ModelCheckpoint(\n",
    "    save_top_k=3,\n",
    "    monitor=\"val_loss\",\n",
    "    mode=\"min\",\n",
    "    filename=\"lstm-{epoch:04d}-{val_loss:.8f}\",\n",
    ")"
   ]
  },
  {
   "cell_type": "code",
   "execution_count": null,
   "metadata": {},
   "outputs": [],
   "source": [
    "pl_net = LitLSTM(lstm_net, loss_func, ts_data_module.train_y_min, ts_data_module.train_y_max, learning_rate=learning_rate)\n",
    "trainer = pl.Trainer(accelerator=\"auto\", callbacks=[checkpoint_callback, early_stop_callback], max_epochs=10000, plugins=[async_ckpt_io])\n",
    "trainer.fit(model=pl_net, datamodule=ts_data_module)"
   ]
  },
  {
   "cell_type": "code",
   "execution_count": null,
   "metadata": {},
   "outputs": [],
   "source": [
    "trainer.test(pl_net, dataloaders=ts_data_module.test_dataloader())"
   ]
  },
  {
   "cell_type": "code",
   "execution_count": null,
   "metadata": {},
   "outputs": [],
   "source": []
  }
 ],
 "metadata": {
  "kernelspec": {
   "display_name": "tf",
   "language": "python",
   "name": "python3"
  },
  "language_info": {
   "codemirror_mode": {
    "name": "ipython",
    "version": 3
   },
   "file_extension": ".py",
   "mimetype": "text/x-python",
   "name": "python",
   "nbconvert_exporter": "python",
   "pygments_lexer": "ipython3",
   "version": "3.8.16"
  },
  "orig_nbformat": 4
 },
 "nbformat": 4,
 "nbformat_minor": 2
}
