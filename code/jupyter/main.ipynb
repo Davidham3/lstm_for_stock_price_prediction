{
 "cells": [
  {
   "cell_type": "code",
   "execution_count": null,
   "metadata": {},
   "outputs": [],
   "source": [
    "import sys\n",
    "import pytorch_lightning as pl\n",
    "from pytorch_lightning.callbacks import ModelCheckpoint\n",
    "from torch import nn\n",
    "\n",
    "sys.path.append(\"../model\")\n",
    "from datamodule import TSDataModule\n",
    "from model import LitLSTM, LSTMModel"
   ]
  },
  {
   "cell_type": "code",
   "execution_count": null,
   "metadata": {},
   "outputs": [],
   "source": [
    "path = \"../../data/input_data.csv\"\n",
    "num_time_steps = 6\n",
    "\n",
    "batch_size = 32\n",
    "learning_rate = 1e-2\n",
    "\n",
    "num_features = 9\n",
    "hidden_size = 16\n",
    "num_lstm_layers = 1\n",
    "bidirectional = False\n",
    "\n",
    "ts_data_module = TSDataModule(\n",
    "    path, num_time_steps=num_time_steps, batch_size=batch_size\n",
    ")\n",
    "\n",
    "lstm_net = LSTMModel(\n",
    "    input_size=num_features,\n",
    "    hidden_size=hidden_size,\n",
    "    num_layers=num_lstm_layers,\n",
    "    bidirectional=bidirectional,\n",
    ")\n",
    "loss_func = nn.MSELoss()\n",
    "pl_net = LitLSTM(lstm_net, loss_func)\n",
    "\n",
    "checkpoint_callback = ModelCheckpoint(\n",
    "    save_top_k=3,\n",
    "    monitor=\"val_loss\",\n",
    "    mode=\"min\",\n",
    "    filename=\"lstm-{epoch:04d}-{val_loss:.8f}\",\n",
    ")\n",
    "trainer = pl.Trainer(callbacks=[checkpoint_callback])\n",
    "trainer.fit(model=pl_net, datamodule=ts_data_module)"
   ]
  },
  {
   "cell_type": "code",
   "execution_count": null,
   "metadata": {},
   "outputs": [],
   "source": []
  }
 ],
 "metadata": {
  "kernelspec": {
   "display_name": "tf",
   "language": "python",
   "name": "python3"
  },
  "language_info": {
   "codemirror_mode": {
    "name": "ipython",
    "version": 3
   },
   "file_extension": ".py",
   "mimetype": "text/x-python",
   "name": "python",
   "nbconvert_exporter": "python",
   "pygments_lexer": "ipython3",
   "version": "3.8.16"
  },
  "orig_nbformat": 4
 },
 "nbformat": 4,
 "nbformat_minor": 2
}
