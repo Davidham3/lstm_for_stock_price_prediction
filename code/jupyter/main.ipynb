{
 "cells": [
  {
   "cell_type": "code",
   "execution_count": null,
   "metadata": {},
   "outputs": [],
   "source": [
    "!git clone https://github.com/Davidham3/lstm_for_stock_price_prediction.git\n",
    "!pip install pytorch_lightning"
   ]
  },
  {
   "cell_type": "code",
   "execution_count": null,
   "metadata": {},
   "outputs": [],
   "source": [
    "import sys\n",
    "import pytorch_lightning as pl\n",
    "from pytorch_lightning.callbacks import ModelCheckpoint\n",
    "from torch import nn\n",
    "\n",
    "# folder = \"lstm_for_stock_price_prediction\"s\n",
    "folder = \"../../\"\n",
    "sys.path.append(os.path.join(folder, \"code/model\"))\n",
    "from datamodule import TSDataModule\n",
    "from model import LitLSTM, LSTMModel, LSTMWithAttention"
   ]
  },
  {
   "cell_type": "code",
   "execution_count": null,
   "metadata": {},
   "outputs": [],
   "source": [
    "path = os.path.join(folder, \"data/input_data.csv\")\n",
    "num_time_steps = 6\n",
    "\n",
    "batch_size = 4\n",
    "learning_rate = 1e-3\n",
    "\n",
    "num_features = 9\n",
    "hidden_size = 10\n",
    "num_lstm_layers = 1\n",
    "bidirectional = False\n",
    "\n",
    "ts_data_module = TSDataModule(\n",
    "    path,\n",
    "    num_time_steps=num_time_steps,\n",
    "    batch_size=batch_size\n",
    ")\n",
    "\n",
    "lstm_net = LSTMWithAttention(\n",
    "    input_size=num_features,\n",
    "    hidden_size=hidden_size,\n",
    "    num_layers=num_lstm_layers,\n",
    "    bidirectional=bidirectional,\n",
    ")\n",
    "loss_func = nn.MSELoss()\n",
    "pl_net = LitLSTM(lstm_net, loss_func, ts_data_module.train_y_min, ts_data_module.train_y_max)\n",
    "\n",
    "checkpoint_callback = ModelCheckpoint(\n",
    "    save_top_k=3,\n",
    "    monitor=\"val_loss\",\n",
    "    mode=\"min\",\n",
    "    filename=\"lstm-{epoch:04d}-{val_loss:.8f}\",\n",
    ")\n",
    "trainer = pl.Trainer(callbacks=[checkpoint_callback], max_epochs=100)\n",
    "trainer.fit(model=pl_net, datamodule=ts_data_module)"
   ]
  },
  {
   "cell_type": "code",
   "execution_count": null,
   "metadata": {},
   "outputs": [],
   "source": [
    "trainer.test(pl_net, dataloaders=ts_data_module.test_dataloader())"
   ]
  },
  {
   "cell_type": "code",
   "execution_count": null,
   "metadata": {},
   "outputs": [],
   "source": []
  }
 ],
 "metadata": {
  "kernelspec": {
   "display_name": "tf",
   "language": "python",
   "name": "python3"
  },
  "language_info": {
   "codemirror_mode": {
    "name": "ipython",
    "version": 3
   },
   "file_extension": ".py",
   "mimetype": "text/x-python",
   "name": "python",
   "nbconvert_exporter": "python",
   "pygments_lexer": "ipython3",
   "version": "3.8.16"
  },
  "orig_nbformat": 4
 },
 "nbformat": 4,
 "nbformat_minor": 2
}
